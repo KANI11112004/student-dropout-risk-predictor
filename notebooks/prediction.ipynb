{
 "cells": [
  {
   "cell_type": "code",
   "execution_count": 4,
   "id": "9cdcb433",
   "metadata": {},
   "outputs": [],
   "source": [
    "import joblib\n",
    "import numpy as np\n",
    "\n",
    "# Load trained model and encoders\n",
    "model = joblib.load('../model/trained_model.pkl')\n",
    "le_gender = joblib.load('../model/le_gender.pkl')\n",
    "le_aspiration = joblib.load('../model/le_aspiration.pkl')\n"
   ]
  },
  {
   "cell_type": "code",
   "execution_count": 20,
   "id": "2ec83a04",
   "metadata": {},
   "outputs": [],
   "source": [
    "# Sample student\n",
    "sample_student = {\n",
    "    'Gender': 'female',\n",
    "    'Part-time Job': False,\n",
    "    'Absent Days': 10,\n",
    "    'Extracurricular Activities': True,\n",
    "    'Weekly Self-study Hours': 10,\n",
    "    'Career Aspiration': 'Doctor',\n",
    "    'Math Score': 95,\n",
    "    'History Score': 33,\n",
    "    'Physics Score': 98,\n",
    "    'Chemistry Score': 30,\n",
    "    'Biology Score': 32,\n",
    "    'English Score': 86,\n",
    "    'Geography Score': 31\n",
    "}\n",
    "\n",
    "# Encode\n",
    "sample_student['Gender'] = le_gender.transform([sample_student['Gender']])[0]\n",
    "sample_student['Career Aspiration'] = le_aspiration.transform([sample_student['Career Aspiration']])[0]\n",
    "\n",
    "# ➕ Calculate average score\n",
    "scores = [\n",
    "    sample_student['Math Score'],\n",
    "    sample_student['History Score'],\n",
    "    sample_student['Physics Score'],\n",
    "    sample_student['Chemistry Score'],\n",
    "    sample_student['Biology Score'],\n",
    "    sample_student['English Score'],\n",
    "    sample_student['Geography Score']\n",
    "]\n",
    "sample_student['Average Score'] = sum(scores) / len(scores)\n"
   ]
  },
  {
   "cell_type": "code",
   "execution_count": 21,
   "id": "153cb9f2",
   "metadata": {},
   "outputs": [
    {
     "name": "stdout",
     "output_type": "stream",
     "text": [
      "Risk Prediction (0 = Not at Risk, 1 = At Risk): 0\n"
     ]
    },
    {
     "name": "stderr",
     "output_type": "stream",
     "text": [
      "C:\\Users\\KANISHKA\\AppData\\Roaming\\Python\\Python311\\site-packages\\sklearn\\utils\\validation.py:2749: UserWarning: X does not have valid feature names, but RandomForestClassifier was fitted with feature names\n",
      "  warnings.warn(\n"
     ]
    }
   ],
   "source": [
    "# Prepare input as 2D array\n",
    "sample_values = np.array([list(sample_student.values())]).reshape(1, -1)\n",
    "\n",
    "# Predict risk\n",
    "prediction = model.predict(sample_values)\n",
    "\n",
    "# Output result\n",
    "print(\"Risk Prediction (0 = Not at Risk, 1 = At Risk):\", prediction[0])\n"
   ]
  }
 ],
 "metadata": {
  "kernelspec": {
   "display_name": "Python 3",
   "language": "python",
   "name": "python3"
  },
  "language_info": {
   "codemirror_mode": {
    "name": "ipython",
    "version": 3
   },
   "file_extension": ".py",
   "mimetype": "text/x-python",
   "name": "python",
   "nbconvert_exporter": "python",
   "pygments_lexer": "ipython3",
   "version": "3.11.5"
  }
 },
 "nbformat": 4,
 "nbformat_minor": 5
}
